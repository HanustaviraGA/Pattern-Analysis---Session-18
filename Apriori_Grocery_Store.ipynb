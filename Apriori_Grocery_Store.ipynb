{
  "cells": [
    {
      "cell_type": "markdown",
      "metadata": {
        "id": "BzGBi_fDmGbG"
      },
      "source": [
        "Mengimport library yang dibutuhkan dan menautkan Google Drive\n",
        "\n"
      ]
    },
    {
      "cell_type": "code",
      "execution_count": 2,
      "metadata": {
        "colab": {
          "base_uri": "https://localhost:8080/"
        },
        "id": "dFVXpzrJl-H1",
        "outputId": "e45bfdfd-3ffb-4698-fea0-d97a37bc7bed"
      },
      "outputs": [
        {
          "name": "stdout",
          "output_type": "stream",
          "text": [
            "Drive already mounted at /content/drive; to attempt to forcibly remount, call drive.mount(\"/content/drive\", force_remount=True).\n"
          ]
        }
      ],
      "source": [
        "import numpy as np\n",
        "import pandas as pd\n",
        "from mlxtend.frequent_patterns import apriori, association_rules\n",
        "from google.colab import drive\n",
        "drive.mount('/content/drive')"
      ]
    },
    {
      "cell_type": "markdown",
      "metadata": {
        "id": "Z3ZI1pYjnhAR"
      },
      "source": [
        "Membuka dan memproses dataset"
      ]
    },
    {
      "cell_type": "code",
      "execution_count": 4,
      "metadata": {
        "colab": {
          "base_uri": "https://localhost:8080/",
          "height": 337
        },
        "id": "800wgDzmnmTs",
        "outputId": "9d5ff87e-ab80-4e97-9dca-c323c59eea38"
      },
      "outputs": [
        {
          "data": {
            "text/html": [
              "\n",
              "  <div id=\"df-26dd8ef3-3c07-4bc3-b93d-fd1876563b03\">\n",
              "    <div class=\"colab-df-container\">\n",
              "      <div>\n",
              "<style scoped>\n",
              "    .dataframe tbody tr th:only-of-type {\n",
              "        vertical-align: middle;\n",
              "    }\n",
              "\n",
              "    .dataframe tbody tr th {\n",
              "        vertical-align: top;\n",
              "    }\n",
              "\n",
              "    .dataframe thead th {\n",
              "        text-align: right;\n",
              "    }\n",
              "</style>\n",
              "<table border=\"1\" class=\"dataframe\">\n",
              "  <thead>\n",
              "    <tr style=\"text-align: right;\">\n",
              "      <th></th>\n",
              "      <th>InvoiceNo</th>\n",
              "      <th>StockCode</th>\n",
              "      <th>Description</th>\n",
              "      <th>Quantity</th>\n",
              "      <th>InvoiceDate</th>\n",
              "      <th>UnitPrice</th>\n",
              "      <th>CustomerID</th>\n",
              "      <th>Country</th>\n",
              "    </tr>\n",
              "  </thead>\n",
              "  <tbody>\n",
              "    <tr>\n",
              "      <th>0</th>\n",
              "      <td>536365</td>\n",
              "      <td>85123A</td>\n",
              "      <td>WHITE HANGING HEART T-LIGHT HOLDER</td>\n",
              "      <td>6</td>\n",
              "      <td>2010-12-01 08:26:00</td>\n",
              "      <td>2.55</td>\n",
              "      <td>17850.0</td>\n",
              "      <td>United Kingdom</td>\n",
              "    </tr>\n",
              "    <tr>\n",
              "      <th>1</th>\n",
              "      <td>536365</td>\n",
              "      <td>71053</td>\n",
              "      <td>WHITE METAL LANTERN</td>\n",
              "      <td>6</td>\n",
              "      <td>2010-12-01 08:26:00</td>\n",
              "      <td>3.39</td>\n",
              "      <td>17850.0</td>\n",
              "      <td>United Kingdom</td>\n",
              "    </tr>\n",
              "    <tr>\n",
              "      <th>2</th>\n",
              "      <td>536365</td>\n",
              "      <td>84406B</td>\n",
              "      <td>CREAM CUPID HEARTS COAT HANGER</td>\n",
              "      <td>8</td>\n",
              "      <td>2010-12-01 08:26:00</td>\n",
              "      <td>2.75</td>\n",
              "      <td>17850.0</td>\n",
              "      <td>United Kingdom</td>\n",
              "    </tr>\n",
              "    <tr>\n",
              "      <th>3</th>\n",
              "      <td>536365</td>\n",
              "      <td>84029G</td>\n",
              "      <td>KNITTED UNION FLAG HOT WATER BOTTLE</td>\n",
              "      <td>6</td>\n",
              "      <td>2010-12-01 08:26:00</td>\n",
              "      <td>3.39</td>\n",
              "      <td>17850.0</td>\n",
              "      <td>United Kingdom</td>\n",
              "    </tr>\n",
              "    <tr>\n",
              "      <th>4</th>\n",
              "      <td>536365</td>\n",
              "      <td>84029E</td>\n",
              "      <td>RED WOOLLY HOTTIE WHITE HEART.</td>\n",
              "      <td>6</td>\n",
              "      <td>2010-12-01 08:26:00</td>\n",
              "      <td>3.39</td>\n",
              "      <td>17850.0</td>\n",
              "      <td>United Kingdom</td>\n",
              "    </tr>\n",
              "  </tbody>\n",
              "</table>\n",
              "</div>\n",
              "      <button class=\"colab-df-convert\" onclick=\"convertToInteractive('df-26dd8ef3-3c07-4bc3-b93d-fd1876563b03')\"\n",
              "              title=\"Convert this dataframe to an interactive table.\"\n",
              "              style=\"display:none;\">\n",
              "        \n",
              "  <svg xmlns=\"http://www.w3.org/2000/svg\" height=\"24px\"viewBox=\"0 0 24 24\"\n",
              "       width=\"24px\">\n",
              "    <path d=\"M0 0h24v24H0V0z\" fill=\"none\"/>\n",
              "    <path d=\"M18.56 5.44l.94 2.06.94-2.06 2.06-.94-2.06-.94-.94-2.06-.94 2.06-2.06.94zm-11 1L8.5 8.5l.94-2.06 2.06-.94-2.06-.94L8.5 2.5l-.94 2.06-2.06.94zm10 10l.94 2.06.94-2.06 2.06-.94-2.06-.94-.94-2.06-.94 2.06-2.06.94z\"/><path d=\"M17.41 7.96l-1.37-1.37c-.4-.4-.92-.59-1.43-.59-.52 0-1.04.2-1.43.59L10.3 9.45l-7.72 7.72c-.78.78-.78 2.05 0 2.83L4 21.41c.39.39.9.59 1.41.59.51 0 1.02-.2 1.41-.59l7.78-7.78 2.81-2.81c.8-.78.8-2.07 0-2.86zM5.41 20L4 18.59l7.72-7.72 1.47 1.35L5.41 20z\"/>\n",
              "  </svg>\n",
              "      </button>\n",
              "      \n",
              "  <style>\n",
              "    .colab-df-container {\n",
              "      display:flex;\n",
              "      flex-wrap:wrap;\n",
              "      gap: 12px;\n",
              "    }\n",
              "\n",
              "    .colab-df-convert {\n",
              "      background-color: #E8F0FE;\n",
              "      border: none;\n",
              "      border-radius: 50%;\n",
              "      cursor: pointer;\n",
              "      display: none;\n",
              "      fill: #1967D2;\n",
              "      height: 32px;\n",
              "      padding: 0 0 0 0;\n",
              "      width: 32px;\n",
              "    }\n",
              "\n",
              "    .colab-df-convert:hover {\n",
              "      background-color: #E2EBFA;\n",
              "      box-shadow: 0px 1px 2px rgba(60, 64, 67, 0.3), 0px 1px 3px 1px rgba(60, 64, 67, 0.15);\n",
              "      fill: #174EA6;\n",
              "    }\n",
              "\n",
              "    [theme=dark] .colab-df-convert {\n",
              "      background-color: #3B4455;\n",
              "      fill: #D2E3FC;\n",
              "    }\n",
              "\n",
              "    [theme=dark] .colab-df-convert:hover {\n",
              "      background-color: #434B5C;\n",
              "      box-shadow: 0px 1px 3px 1px rgba(0, 0, 0, 0.15);\n",
              "      filter: drop-shadow(0px 1px 2px rgba(0, 0, 0, 0.3));\n",
              "      fill: #FFFFFF;\n",
              "    }\n",
              "  </style>\n",
              "\n",
              "      <script>\n",
              "        const buttonEl =\n",
              "          document.querySelector('#df-26dd8ef3-3c07-4bc3-b93d-fd1876563b03 button.colab-df-convert');\n",
              "        buttonEl.style.display =\n",
              "          google.colab.kernel.accessAllowed ? 'block' : 'none';\n",
              "\n",
              "        async function convertToInteractive(key) {\n",
              "          const element = document.querySelector('#df-26dd8ef3-3c07-4bc3-b93d-fd1876563b03');\n",
              "          const dataTable =\n",
              "            await google.colab.kernel.invokeFunction('convertToInteractive',\n",
              "                                                     [key], {});\n",
              "          if (!dataTable) return;\n",
              "\n",
              "          const docLinkHtml = 'Like what you see? Visit the ' +\n",
              "            '<a target=\"_blank\" href=https://colab.research.google.com/notebooks/data_table.ipynb>data table notebook</a>'\n",
              "            + ' to learn more about interactive tables.';\n",
              "          element.innerHTML = '';\n",
              "          dataTable['output_type'] = 'display_data';\n",
              "          await google.colab.output.renderOutput(dataTable, element);\n",
              "          const docLink = document.createElement('div');\n",
              "          docLink.innerHTML = docLinkHtml;\n",
              "          element.appendChild(docLink);\n",
              "        }\n",
              "      </script>\n",
              "    </div>\n",
              "  </div>\n",
              "  "
            ],
            "text/plain": [
              "  InvoiceNo StockCode                          Description  Quantity  \\\n",
              "0    536365    85123A   WHITE HANGING HEART T-LIGHT HOLDER         6   \n",
              "1    536365     71053                  WHITE METAL LANTERN         6   \n",
              "2    536365    84406B       CREAM CUPID HEARTS COAT HANGER         8   \n",
              "3    536365    84029G  KNITTED UNION FLAG HOT WATER BOTTLE         6   \n",
              "4    536365    84029E       RED WOOLLY HOTTIE WHITE HEART.         6   \n",
              "\n",
              "          InvoiceDate  UnitPrice  CustomerID         Country  \n",
              "0 2010-12-01 08:26:00       2.55     17850.0  United Kingdom  \n",
              "1 2010-12-01 08:26:00       3.39     17850.0  United Kingdom  \n",
              "2 2010-12-01 08:26:00       2.75     17850.0  United Kingdom  \n",
              "3 2010-12-01 08:26:00       3.39     17850.0  United Kingdom  \n",
              "4 2010-12-01 08:26:00       3.39     17850.0  United Kingdom  "
            ]
          },
          "execution_count": 4,
          "metadata": {},
          "output_type": "execute_result"
        }
      ],
      "source": [
        "data = pd.read_excel('/content/drive/My Drive/PatternAnalysis/Online_Retail.xlsx')\n",
        "data.head()"
      ]
    },
    {
      "cell_type": "markdown",
      "metadata": {
        "id": "tbJeT7RcoYrD"
      },
      "source": [
        "Mengeksplorasi kolom pada dataset"
      ]
    },
    {
      "cell_type": "code",
      "execution_count": 5,
      "metadata": {
        "colab": {
          "base_uri": "https://localhost:8080/"
        },
        "id": "2Io9klrIodJL",
        "outputId": "f7012999-8bd9-4334-8503-faea74821de5"
      },
      "outputs": [
        {
          "data": {
            "text/plain": [
              "Index(['InvoiceNo', 'StockCode', 'Description', 'Quantity', 'InvoiceDate',\n",
              "       'UnitPrice', 'CustomerID', 'Country'],\n",
              "      dtype='object')"
            ]
          },
          "execution_count": 5,
          "metadata": {},
          "output_type": "execute_result"
        }
      ],
      "source": [
        "data.columns"
      ]
    },
    {
      "cell_type": "markdown",
      "metadata": {
        "id": "pGP6YOIMohaM"
      },
      "source": [
        "Mengeksplorasi region/negara yang unik di setiap transaksinya"
      ]
    },
    {
      "cell_type": "code",
      "execution_count": 6,
      "metadata": {
        "colab": {
          "base_uri": "https://localhost:8080/"
        },
        "id": "Z2rE-x_Col-G",
        "outputId": "cf8a1d35-e714-4e7b-cf4d-785fba9fa2ce"
      },
      "outputs": [
        {
          "data": {
            "text/plain": [
              "array(['United Kingdom', 'France', 'Australia', 'Netherlands', 'Germany',\n",
              "       'Norway', 'EIRE', 'Switzerland', 'Spain', 'Poland', 'Portugal',\n",
              "       'Italy', 'Belgium', 'Lithuania', 'Japan', 'Iceland',\n",
              "       'Channel Islands', 'Denmark', 'Cyprus', 'Sweden', 'Austria',\n",
              "       'Israel', 'Finland', 'Bahrain', 'Greece', 'Hong Kong', 'Singapore',\n",
              "       'Lebanon', 'United Arab Emirates', 'Saudi Arabia',\n",
              "       'Czech Republic', 'Canada', 'Unspecified', 'Brazil', 'USA',\n",
              "       'European Community', 'Malta', 'RSA'], dtype=object)"
            ]
          },
          "execution_count": 6,
          "metadata": {},
          "output_type": "execute_result"
        }
      ],
      "source": [
        "data.Country.unique()"
      ]
    },
    {
      "cell_type": "markdown",
      "metadata": {
        "id": "-Ih4QZc6orvN"
      },
      "source": [
        "Data cleaning"
      ]
    },
    {
      "cell_type": "code",
      "execution_count": 7,
      "metadata": {
        "id": "d9w6AAp2otgF"
      },
      "outputs": [],
      "source": [
        "# Menghapus spasi tambahan pada deskripsi\n",
        "data['Description'] = data['Description'].str.strip()\n",
        "  \n",
        "# Menghapus baris yang tidak terdapat nomor invoice\n",
        "data.dropna(axis = 0, subset =['InvoiceNo'], inplace = True)\n",
        "data['InvoiceNo'] = data['InvoiceNo'].astype('str')\n",
        "  \n",
        "# Menghapus transaksi yang dilakukan secara kredit\n",
        "data = data[~data['InvoiceNo'].str.contains('C')]"
      ]
    },
    {
      "cell_type": "markdown",
      "metadata": {
        "id": "-FgNcP6apHo5"
      },
      "source": [
        "Splitting data berdasarkan region/negara asal transaksi"
      ]
    },
    {
      "cell_type": "code",
      "execution_count": 8,
      "metadata": {
        "id": "pjE7oNoqpLOx"
      },
      "outputs": [],
      "source": [
        "# Transaksi yang dilakukan di Perancis / France\n",
        "basket_France = (data[data['Country'] ==\"France\"]\n",
        "\t\t.groupby(['InvoiceNo', 'Description'])['Quantity']\n",
        "\t\t.sum().unstack().reset_index().fillna(0)\n",
        "\t\t.set_index('InvoiceNo'))\n",
        "\n",
        "# Transaksi yang dilakukan di Inggris / United Kingdom\n",
        "basket_UK = (data[data['Country'] ==\"United Kingdom\"]\n",
        "\t\t.groupby(['InvoiceNo', 'Description'])['Quantity']\n",
        "\t\t.sum().unstack().reset_index().fillna(0)\n",
        "\t\t.set_index('InvoiceNo'))\n",
        "\n",
        "# Transaksi yang dilakukan di Portugis / Portugal\n",
        "basket_Por = (data[data['Country'] ==\"Portugal\"]\n",
        "\t\t.groupby(['InvoiceNo', 'Description'])['Quantity']\n",
        "\t\t.sum().unstack().reset_index().fillna(0)\n",
        "\t\t.set_index('InvoiceNo'))\n",
        "\n",
        "# Transaksi yang dilakukan di Swedia / Sweden\n",
        "basket_Sweden = (data[data['Country'] ==\"Sweden\"]\n",
        "\t\t.groupby(['InvoiceNo', 'Description'])['Quantity']\n",
        "\t\t.sum().unstack().reset_index().fillna(0)\n",
        "\t\t.set_index('InvoiceNo'))\n"
      ]
    },
    {
      "cell_type": "markdown",
      "metadata": {
        "id": "toEIHtTWpfCv"
      },
      "source": [
        "Data encoding"
      ]
    },
    {
      "cell_type": "code",
      "execution_count": 9,
      "metadata": {
        "id": "tzWvZ_K5pgku"
      },
      "outputs": [],
      "source": [
        "# Membuat hot encode untuk menyesuaikan dengan library yang digunakan\n",
        "def hot_encode(x):\n",
        "\tif(x<= 0):\n",
        "\t\treturn 0\n",
        "\tif(x>= 1):\n",
        "\t\treturn 1\n",
        "\n",
        "# Encoding dataset\n",
        "basket_encoded = basket_France.applymap(hot_encode)\n",
        "basket_France = basket_encoded\n",
        "\n",
        "basket_encoded = basket_UK.applymap(hot_encode)\n",
        "basket_UK = basket_encoded\n",
        "\n",
        "basket_encoded = basket_Por.applymap(hot_encode)\n",
        "basket_Por = basket_encoded\n",
        "\n",
        "basket_encoded = basket_Sweden.applymap(hot_encode)\n",
        "basket_Sweden = basket_encoded\n"
      ]
    },
    {
      "cell_type": "markdown",
      "metadata": {
        "id": "cGNIXJeKp--H"
      },
      "source": [
        "Membuat model dan analisa hasil"
      ]
    },
    {
      "cell_type": "markdown",
      "metadata": {
        "id": "LYIq-3uTqCtq"
      },
      "source": [
        "Perancis / France"
      ]
    },
    {
      "cell_type": "code",
      "execution_count": 10,
      "metadata": {
        "colab": {
          "base_uri": "https://localhost:8080/"
        },
        "id": "z6d3gXDNqIYD",
        "outputId": "cf541329-484e-4765-a388-4e095dbff116"
      },
      "outputs": [
        {
          "name": "stdout",
          "output_type": "stream",
          "text": [
            "                                           antecedents  \\\n",
            "44                        (JUMBO BAG WOODLAND ANIMALS)   \n",
            "258  (PLASTERS IN TIN CIRCUS PARADE, RED TOADSTOOL ...   \n",
            "272  (RED TOADSTOOL LED NIGHT LIGHT, PLASTERS IN TI...   \n",
            "301  (SET/6 RED SPOTTY PAPER CUPS, SET/20 RED RETRO...   \n",
            "302  (SET/6 RED SPOTTY PAPER PLATES, SET/20 RED RET...   \n",
            "\n",
            "                         consequents  antecedent support  consequent support  \\\n",
            "44                         (POSTAGE)            0.076531            0.765306   \n",
            "258                        (POSTAGE)            0.051020            0.765306   \n",
            "272                        (POSTAGE)            0.053571            0.765306   \n",
            "301  (SET/6 RED SPOTTY PAPER PLATES)            0.102041            0.127551   \n",
            "302    (SET/6 RED SPOTTY PAPER CUPS)            0.102041            0.137755   \n",
            "\n",
            "      support  confidence      lift  leverage  conviction  \n",
            "44   0.076531       1.000  1.306667  0.017961         inf  \n",
            "258  0.051020       1.000  1.306667  0.011974         inf  \n",
            "272  0.053571       1.000  1.306667  0.012573         inf  \n",
            "301  0.099490       0.975  7.644000  0.086474   34.897959  \n",
            "302  0.099490       0.975  7.077778  0.085433   34.489796  \n"
          ]
        }
      ],
      "source": [
        "# Bentuk model\n",
        "frq_items = apriori(basket_France, min_support = 0.05, use_colnames = True)\n",
        "  \n",
        "# Mengumpulkan data pada sebuah dataframe\n",
        "rules = association_rules(frq_items, metric =\"lift\", min_threshold = 1)\n",
        "rules = rules.sort_values(['confidence', 'lift'], ascending =[False, False])\n",
        "print(rules.head())"
      ]
    },
    {
      "cell_type": "markdown",
      "metadata": {
        "id": "vkUfPJFyrLsa"
      },
      "source": [
        "Dari hasil diatas dapat terlihat bahwa cangkir kertas dan kertas, serta piring dibeli secara bersamaan di Perancis. Mengingat budaya Perancis yang sering berkumpul bersama keluarga setidaknya sekali dalam seminggu. Dan juga pemerintah Perancis telah melarang penggunaan plastik di negara tersebut, sehingga warga harus membeli dengan bahan kertas sebagai alternatif"
      ]
    },
    {
      "cell_type": "markdown",
      "metadata": {
        "id": "NRcceCBwqTo3"
      },
      "source": [
        "Inggris / United Kingdom"
      ]
    },
    {
      "cell_type": "code",
      "execution_count": 11,
      "metadata": {
        "colab": {
          "base_uri": "https://localhost:8080/"
        },
        "id": "d8nay0z5qWjC",
        "outputId": "eb04761e-f714-4ae7-92ac-1986d8d778f7"
      },
      "outputs": [
        {
          "name": "stdout",
          "output_type": "stream",
          "text": [
            "                                       antecedents             consequents  \\\n",
            "117           (BEADED CRYSTAL HEART PINK ON STICK)        (DOTCOM POSTAGE)   \n",
            "2019  (JAM MAKING SET PRINTED, SUKI  SHOULDER BAG)        (DOTCOM POSTAGE)   \n",
            "2296         (HERB MARKER MINT, HERB MARKER THYME)  (HERB MARKER ROSEMARY)   \n",
            "2300   (HERB MARKER PARSLEY, HERB MARKER ROSEMARY)     (HERB MARKER THYME)   \n",
            "2302      (HERB MARKER PARSLEY, HERB MARKER THYME)  (HERB MARKER ROSEMARY)   \n",
            "\n",
            "      antecedent support  consequent support   support  confidence       lift  \\\n",
            "117             0.011036            0.037928  0.010768    0.975728  25.725872   \n",
            "2019            0.011625            0.037928  0.011196    0.963134  25.393807   \n",
            "2296            0.010714            0.012375  0.010232    0.955000  77.173095   \n",
            "2300            0.011089            0.012321  0.010553    0.951691  77.240055   \n",
            "2302            0.011089            0.012375  0.010553    0.951691  76.905682   \n",
            "\n",
            "      leverage  conviction  \n",
            "117   0.010349   39.637371  \n",
            "2019  0.010755   26.096206  \n",
            "2296  0.010099   21.947227  \n",
            "2300  0.010417   20.444951  \n",
            "2302  0.010416   20.443842  \n"
          ]
        }
      ],
      "source": [
        "# Bentuk model\n",
        "frq_items = apriori(basket_UK, min_support = 0.01, use_colnames = True)\n",
        "\n",
        "# Mengumpulkan data pada sebuah dataframe\n",
        "rules = association_rules(frq_items, metric =\"lift\", min_threshold = 1)\n",
        "rules = rules.sort_values(['confidence', 'lift'], ascending =[False, False])\n",
        "print(rules.head())"
      ]
    },
    {
      "cell_type": "markdown",
      "metadata": {
        "id": "sQRBp0Vsr6js"
      },
      "source": [
        "Jika aturan transaksi Inggris dianalisis lebih dalam, terlihat bahwa orang Inggris membeli piring teh berwarna berbeda secara bersamaan. Alasan di balik ini mungkin karena biasanya orang Inggris sangat menikmati teh dan sering mengumpulkan piring teh dengan warna berbeda untuk berbagai kesempatan."
      ]
    },
    {
      "cell_type": "markdown",
      "metadata": {
        "id": "Wzt959bWqwlM"
      },
      "source": [
        "Portugis / Portugal"
      ]
    },
    {
      "cell_type": "code",
      "execution_count": 12,
      "metadata": {
        "colab": {
          "base_uri": "https://localhost:8080/"
        },
        "id": "aU9TjQFgqzxS",
        "outputId": "ac62b9d0-107b-4ce2-e6a7-c3a485db738c"
      },
      "outputs": [
        {
          "name": "stdout",
          "output_type": "stream",
          "text": [
            "                             antecedents                          consequents  \\\n",
            "1170  (SET 12 COLOUR PENCILS DOLLY GIRL)     (SET 12 COLOUR PENCILS SPACEBOY)   \n",
            "1171    (SET 12 COLOUR PENCILS SPACEBOY)   (SET 12 COLOUR PENCILS DOLLY GIRL)   \n",
            "1172  (SET 12 COLOUR PENCILS DOLLY GIRL)   (SET OF 4 KNICK KNACK TINS LONDON)   \n",
            "1173  (SET OF 4 KNICK KNACK TINS LONDON)   (SET 12 COLOUR PENCILS DOLLY GIRL)   \n",
            "1174  (SET 12 COLOUR PENCILS DOLLY GIRL)  (SET OF 4 KNICK KNACK TINS POPPIES)   \n",
            "\n",
            "      antecedent support  consequent support   support  confidence       lift  \\\n",
            "1170            0.051724            0.051724  0.051724         1.0  19.333333   \n",
            "1171            0.051724            0.051724  0.051724         1.0  19.333333   \n",
            "1172            0.051724            0.051724  0.051724         1.0  19.333333   \n",
            "1173            0.051724            0.051724  0.051724         1.0  19.333333   \n",
            "1174            0.051724            0.051724  0.051724         1.0  19.333333   \n",
            "\n",
            "      leverage  conviction  \n",
            "1170  0.049049         inf  \n",
            "1171  0.049049         inf  \n",
            "1172  0.049049         inf  \n",
            "1173  0.049049         inf  \n",
            "1174  0.049049         inf  \n"
          ]
        }
      ],
      "source": [
        "# Bentuk model\n",
        "frq_items = apriori(basket_Por, min_support = 0.05, use_colnames = True)\n",
        "\n",
        "# Mengumpulkan data pada sebuah dataframe\n",
        "rules = association_rules(frq_items, metric =\"lift\", min_threshold = 1)\n",
        "rules = rules.sort_values(['confidence', 'lift'], ascending =[False, False])\n",
        "print(rules.head())"
      ]
    },
    {
      "cell_type": "markdown",
      "metadata": {
        "id": "KbjQYvg9sHjg"
      },
      "source": [
        "Saat menganalisis aturan asosiasi untuk transaksi Portugis, diamati bahwa set Tiffin (Knick Knack Tins) dan pensil warna. Kedua produk ini biasanya milik anak sekolah dasar. Kedua produk ini dibutuhkan oleh anak-anak di sekolah untuk membawa bekal dan untuk berkreasi masing-masing sehingga secara logis masuk akal untuk dipasangkan bersama."
      ]
    },
    {
      "cell_type": "markdown",
      "metadata": {
        "id": "0Sd_J-pwrBkr"
      },
      "source": [
        "Swedia / Sweden"
      ]
    },
    {
      "cell_type": "code",
      "execution_count": 13,
      "metadata": {
        "colab": {
          "base_uri": "https://localhost:8080/"
        },
        "id": "xezy6SjTrDPG",
        "outputId": "01c09c1a-daae-499e-ba0b-798e2c456b50"
      },
      "outputs": [
        {
          "name": "stdout",
          "output_type": "stream",
          "text": [
            "                           antecedents                     consequents  \\\n",
            "0        (12 PENCILS SMALL TUBE SKULL)   (PACK OF 72 SKULL CAKE CASES)   \n",
            "1        (PACK OF 72 SKULL CAKE CASES)   (12 PENCILS SMALL TUBE SKULL)   \n",
            "4       (ASSORTED BOTTLE TOP  MAGNETS)         (36 DOILIES DOLLY GIRL)   \n",
            "5              (36 DOILIES DOLLY GIRL)  (ASSORTED BOTTLE TOP  MAGNETS)   \n",
            "180  (CHILDRENS CUTLERY CIRCUS PARADE)  (CHILDRENS CUTLERY DOLLY GIRL)   \n",
            "\n",
            "     antecedent support  consequent support   support  confidence  lift  \\\n",
            "0              0.055556            0.055556  0.055556         1.0  18.0   \n",
            "1              0.055556            0.055556  0.055556         1.0  18.0   \n",
            "4              0.055556            0.055556  0.055556         1.0  18.0   \n",
            "5              0.055556            0.055556  0.055556         1.0  18.0   \n",
            "180            0.055556            0.055556  0.055556         1.0  18.0   \n",
            "\n",
            "     leverage  conviction  \n",
            "0    0.052469         inf  \n",
            "1    0.052469         inf  \n",
            "4    0.052469         inf  \n",
            "5    0.052469         inf  \n",
            "180  0.052469         inf  \n"
          ]
        }
      ],
      "source": [
        "# Bentuk model\n",
        "frq_items = apriori(basket_Sweden, min_support = 0.05, use_colnames = True)\n",
        "\n",
        "# Mengumpulkan data pada sebuah dataframe\n",
        "rules = association_rules(frq_items, metric =\"lift\", min_threshold = 1)\n",
        "rules = rules.sort_values(['confidence', 'lift'], ascending =[False, False])\n",
        "print(rules.head())\n"
      ]
    },
    {
      "cell_type": "markdown",
      "metadata": {
        "id": "IbClw8SEsM-S"
      },
      "source": [
        "Setelah menganalisis aturan di atas, ditemukan bahwa peralatan makan anak laki-laki dan perempuan dipasangkan bersama. Ini masuk akal karena ketika orang tua pergi berbelanja peralatan makan untuk anak-anaknya, dia ingin produknya sedikit disesuaikan dengan keinginan anak."
      ]
    }
  ],
  "metadata": {
    "colab": {
      "provenance": []
    },
    "kernelspec": {
      "display_name": "Python 3",
      "language": "python",
      "name": "python3"
    },
    "language_info": {
      "name": "python",
      "version": "3.10.4 (tags/v3.10.4:9d38120, Mar 23 2022, 23:13:41) [MSC v.1929 64 bit (AMD64)]"
    },
    "vscode": {
      "interpreter": {
        "hash": "df95319d8ce4e1d89f5365ae10992bc1f65da593082b1d264e8f529830ec2f02"
      }
    }
  },
  "nbformat": 4,
  "nbformat_minor": 0
}
